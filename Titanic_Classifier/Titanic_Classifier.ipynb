{
 "cells": [
  {
   "cell_type": "code",
   "execution_count": 1,
   "id": "64b0324e",
   "metadata": {
    "_cell_guid": "b1076dfc-b9ad-4769-8c92-a6c4dae69d19",
    "_uuid": "8f2839f25d086af736a60e9eeb907d3b93b6e0e5",
    "execution": {
     "iopub.execute_input": "2021-09-07T04:44:38.548203Z",
     "iopub.status.busy": "2021-09-07T04:44:38.547473Z",
     "iopub.status.idle": "2021-09-07T04:44:38.552154Z",
     "shell.execute_reply": "2021-09-07T04:44:38.552617Z",
     "shell.execute_reply.started": "2021-09-07T04:39:46.997175Z"
    },
    "papermill": {
     "duration": 0.036103,
     "end_time": "2021-09-07T04:44:38.552898",
     "exception": false,
     "start_time": "2021-09-07T04:44:38.516795",
     "status": "completed"
    },
    "tags": []
   },
   "outputs": [
    {
     "name": "stdout",
     "output_type": "stream",
     "text": [
      "/kaggle/input/titanic/train.csv\n",
      "/kaggle/input/titanic/test.csv\n",
      "/kaggle/input/titanic/gender_submission.csv\n"
     ]
    }
   ],
   "source": [
    "# This Python 3 environment comes with many helpful analytics libraries installed\n",
    "# It is defined by the kaggle/python Docker image: https://github.com/kaggle/docker-python\n",
    "# For example, here's several helpful packages to load\n",
    "\n",
    "import numpy as np # linear algebra\n",
    "import pandas as pd # data processing, CSV file I/O (e.g. pd.read_csv)\n",
    "\n",
    "# Input data files are available in the read-only \"../input/\" directory\n",
    "\n",
    "import os\n",
    "for dirname, _, filenames in os.walk('/kaggle/input'):\n",
    "    for filename in filenames:\n",
    "        print(os.path.join(dirname, filename))\n",
    "\n",
    "# You can write up to 20GB to the current directory (/kaggle/working/) that gets preserved as output when you create a version using \"Save & Run All\" \n",
    "# You can also write temporary files to /kaggle/temp/, but they won't be saved outside of the current session"
   ]
  },
  {
   "cell_type": "code",
   "execution_count": 2,
   "id": "5150fec4",
   "metadata": {
    "execution": {
     "iopub.execute_input": "2021-09-07T04:44:38.596979Z",
     "iopub.status.busy": "2021-09-07T04:44:38.596420Z",
     "iopub.status.idle": "2021-09-07T04:44:39.548961Z",
     "shell.execute_reply": "2021-09-07T04:44:39.548420Z",
     "shell.execute_reply.started": "2021-09-07T04:39:47.020510Z"
    },
    "papermill": {
     "duration": 0.975246,
     "end_time": "2021-09-07T04:44:39.549090",
     "exception": false,
     "start_time": "2021-09-07T04:44:38.573844",
     "status": "completed"
    },
    "tags": []
   },
   "outputs": [],
   "source": [
    "import matplotlib.pyplot as plt\n",
    "import seaborn as sns\n",
    "%matplotlib inline"
   ]
  },
  {
   "cell_type": "markdown",
   "id": "8b580293",
   "metadata": {
    "papermill": {
     "duration": 0.020052,
     "end_time": "2021-09-07T04:44:39.589636",
     "exception": false,
     "start_time": "2021-09-07T04:44:39.569584",
     "status": "completed"
    },
    "tags": []
   },
   "source": [
    "<h2> Loading the data </h2>"
   ]
  },
  {
   "cell_type": "code",
   "execution_count": 3,
   "id": "7734930a",
   "metadata": {
    "execution": {
     "iopub.execute_input": "2021-09-07T04:44:39.635664Z",
     "iopub.status.busy": "2021-09-07T04:44:39.634606Z",
     "iopub.status.idle": "2021-09-07T04:44:39.675956Z",
     "shell.execute_reply": "2021-09-07T04:44:39.675371Z",
     "shell.execute_reply.started": "2021-09-07T04:39:48.094823Z"
    },
    "papermill": {
     "duration": 0.066197,
     "end_time": "2021-09-07T04:44:39.676089",
     "exception": false,
     "start_time": "2021-09-07T04:44:39.609892",
     "status": "completed"
    },
    "tags": []
   },
   "outputs": [
    {
     "data": {
      "text/html": [
       "<div>\n",
       "<style scoped>\n",
       "    .dataframe tbody tr th:only-of-type {\n",
       "        vertical-align: middle;\n",
       "    }\n",
       "\n",
       "    .dataframe tbody tr th {\n",
       "        vertical-align: top;\n",
       "    }\n",
       "\n",
       "    .dataframe thead th {\n",
       "        text-align: right;\n",
       "    }\n",
       "</style>\n",
       "<table border=\"1\" class=\"dataframe\">\n",
       "  <thead>\n",
       "    <tr style=\"text-align: right;\">\n",
       "      <th></th>\n",
       "      <th>PassengerId</th>\n",
       "      <th>Survived</th>\n",
       "      <th>Pclass</th>\n",
       "      <th>Name</th>\n",
       "      <th>Sex</th>\n",
       "      <th>Age</th>\n",
       "      <th>SibSp</th>\n",
       "      <th>Parch</th>\n",
       "      <th>Ticket</th>\n",
       "      <th>Fare</th>\n",
       "      <th>Cabin</th>\n",
       "      <th>Embarked</th>\n",
       "    </tr>\n",
       "  </thead>\n",
       "  <tbody>\n",
       "    <tr>\n",
       "      <th>0</th>\n",
       "      <td>1</td>\n",
       "      <td>0</td>\n",
       "      <td>3</td>\n",
       "      <td>Braund, Mr. Owen Harris</td>\n",
       "      <td>male</td>\n",
       "      <td>22.0</td>\n",
       "      <td>1</td>\n",
       "      <td>0</td>\n",
       "      <td>A/5 21171</td>\n",
       "      <td>7.2500</td>\n",
       "      <td>NaN</td>\n",
       "      <td>S</td>\n",
       "    </tr>\n",
       "    <tr>\n",
       "      <th>1</th>\n",
       "      <td>2</td>\n",
       "      <td>1</td>\n",
       "      <td>1</td>\n",
       "      <td>Cumings, Mrs. John Bradley (Florence Briggs Th...</td>\n",
       "      <td>female</td>\n",
       "      <td>38.0</td>\n",
       "      <td>1</td>\n",
       "      <td>0</td>\n",
       "      <td>PC 17599</td>\n",
       "      <td>71.2833</td>\n",
       "      <td>C85</td>\n",
       "      <td>C</td>\n",
       "    </tr>\n",
       "    <tr>\n",
       "      <th>2</th>\n",
       "      <td>3</td>\n",
       "      <td>1</td>\n",
       "      <td>3</td>\n",
       "      <td>Heikkinen, Miss. Laina</td>\n",
       "      <td>female</td>\n",
       "      <td>26.0</td>\n",
       "      <td>0</td>\n",
       "      <td>0</td>\n",
       "      <td>STON/O2. 3101282</td>\n",
       "      <td>7.9250</td>\n",
       "      <td>NaN</td>\n",
       "      <td>S</td>\n",
       "    </tr>\n",
       "    <tr>\n",
       "      <th>3</th>\n",
       "      <td>4</td>\n",
       "      <td>1</td>\n",
       "      <td>1</td>\n",
       "      <td>Futrelle, Mrs. Jacques Heath (Lily May Peel)</td>\n",
       "      <td>female</td>\n",
       "      <td>35.0</td>\n",
       "      <td>1</td>\n",
       "      <td>0</td>\n",
       "      <td>113803</td>\n",
       "      <td>53.1000</td>\n",
       "      <td>C123</td>\n",
       "      <td>S</td>\n",
       "    </tr>\n",
       "    <tr>\n",
       "      <th>4</th>\n",
       "      <td>5</td>\n",
       "      <td>0</td>\n",
       "      <td>3</td>\n",
       "      <td>Allen, Mr. William Henry</td>\n",
       "      <td>male</td>\n",
       "      <td>35.0</td>\n",
       "      <td>0</td>\n",
       "      <td>0</td>\n",
       "      <td>373450</td>\n",
       "      <td>8.0500</td>\n",
       "      <td>NaN</td>\n",
       "      <td>S</td>\n",
       "    </tr>\n",
       "  </tbody>\n",
       "</table>\n",
       "</div>"
      ],
      "text/plain": [
       "   PassengerId  Survived  Pclass  \\\n",
       "0            1         0       3   \n",
       "1            2         1       1   \n",
       "2            3         1       3   \n",
       "3            4         1       1   \n",
       "4            5         0       3   \n",
       "\n",
       "                                                Name     Sex   Age  SibSp  \\\n",
       "0                            Braund, Mr. Owen Harris    male  22.0      1   \n",
       "1  Cumings, Mrs. John Bradley (Florence Briggs Th...  female  38.0      1   \n",
       "2                             Heikkinen, Miss. Laina  female  26.0      0   \n",
       "3       Futrelle, Mrs. Jacques Heath (Lily May Peel)  female  35.0      1   \n",
       "4                           Allen, Mr. William Henry    male  35.0      0   \n",
       "\n",
       "   Parch            Ticket     Fare Cabin Embarked  \n",
       "0      0         A/5 21171   7.2500   NaN        S  \n",
       "1      0          PC 17599  71.2833   C85        C  \n",
       "2      0  STON/O2. 3101282   7.9250   NaN        S  \n",
       "3      0            113803  53.1000  C123        S  \n",
       "4      0            373450   8.0500   NaN        S  "
      ]
     },
     "execution_count": 3,
     "metadata": {},
     "output_type": "execute_result"
    }
   ],
   "source": [
    "train_data = pd.read_csv('../input/titanic/train.csv')\n",
    "train_data.head()"
   ]
  },
  {
   "cell_type": "code",
   "execution_count": 4,
   "id": "40b94bde",
   "metadata": {
    "execution": {
     "iopub.execute_input": "2021-09-07T04:44:39.722501Z",
     "iopub.status.busy": "2021-09-07T04:44:39.721832Z",
     "iopub.status.idle": "2021-09-07T04:44:39.744096Z",
     "shell.execute_reply": "2021-09-07T04:44:39.743666Z",
     "shell.execute_reply.started": "2021-09-07T04:39:48.168424Z"
    },
    "papermill": {
     "duration": 0.047563,
     "end_time": "2021-09-07T04:44:39.744251",
     "exception": false,
     "start_time": "2021-09-07T04:44:39.696688",
     "status": "completed"
    },
    "tags": []
   },
   "outputs": [
    {
     "data": {
      "text/html": [
       "<div>\n",
       "<style scoped>\n",
       "    .dataframe tbody tr th:only-of-type {\n",
       "        vertical-align: middle;\n",
       "    }\n",
       "\n",
       "    .dataframe tbody tr th {\n",
       "        vertical-align: top;\n",
       "    }\n",
       "\n",
       "    .dataframe thead th {\n",
       "        text-align: right;\n",
       "    }\n",
       "</style>\n",
       "<table border=\"1\" class=\"dataframe\">\n",
       "  <thead>\n",
       "    <tr style=\"text-align: right;\">\n",
       "      <th></th>\n",
       "      <th>PassengerId</th>\n",
       "      <th>Pclass</th>\n",
       "      <th>Name</th>\n",
       "      <th>Sex</th>\n",
       "      <th>Age</th>\n",
       "      <th>SibSp</th>\n",
       "      <th>Parch</th>\n",
       "      <th>Ticket</th>\n",
       "      <th>Fare</th>\n",
       "      <th>Cabin</th>\n",
       "      <th>Embarked</th>\n",
       "    </tr>\n",
       "  </thead>\n",
       "  <tbody>\n",
       "    <tr>\n",
       "      <th>0</th>\n",
       "      <td>892</td>\n",
       "      <td>3</td>\n",
       "      <td>Kelly, Mr. James</td>\n",
       "      <td>male</td>\n",
       "      <td>34.5</td>\n",
       "      <td>0</td>\n",
       "      <td>0</td>\n",
       "      <td>330911</td>\n",
       "      <td>7.8292</td>\n",
       "      <td>NaN</td>\n",
       "      <td>Q</td>\n",
       "    </tr>\n",
       "    <tr>\n",
       "      <th>1</th>\n",
       "      <td>893</td>\n",
       "      <td>3</td>\n",
       "      <td>Wilkes, Mrs. James (Ellen Needs)</td>\n",
       "      <td>female</td>\n",
       "      <td>47.0</td>\n",
       "      <td>1</td>\n",
       "      <td>0</td>\n",
       "      <td>363272</td>\n",
       "      <td>7.0000</td>\n",
       "      <td>NaN</td>\n",
       "      <td>S</td>\n",
       "    </tr>\n",
       "    <tr>\n",
       "      <th>2</th>\n",
       "      <td>894</td>\n",
       "      <td>2</td>\n",
       "      <td>Myles, Mr. Thomas Francis</td>\n",
       "      <td>male</td>\n",
       "      <td>62.0</td>\n",
       "      <td>0</td>\n",
       "      <td>0</td>\n",
       "      <td>240276</td>\n",
       "      <td>9.6875</td>\n",
       "      <td>NaN</td>\n",
       "      <td>Q</td>\n",
       "    </tr>\n",
       "    <tr>\n",
       "      <th>3</th>\n",
       "      <td>895</td>\n",
       "      <td>3</td>\n",
       "      <td>Wirz, Mr. Albert</td>\n",
       "      <td>male</td>\n",
       "      <td>27.0</td>\n",
       "      <td>0</td>\n",
       "      <td>0</td>\n",
       "      <td>315154</td>\n",
       "      <td>8.6625</td>\n",
       "      <td>NaN</td>\n",
       "      <td>S</td>\n",
       "    </tr>\n",
       "    <tr>\n",
       "      <th>4</th>\n",
       "      <td>896</td>\n",
       "      <td>3</td>\n",
       "      <td>Hirvonen, Mrs. Alexander (Helga E Lindqvist)</td>\n",
       "      <td>female</td>\n",
       "      <td>22.0</td>\n",
       "      <td>1</td>\n",
       "      <td>1</td>\n",
       "      <td>3101298</td>\n",
       "      <td>12.2875</td>\n",
       "      <td>NaN</td>\n",
       "      <td>S</td>\n",
       "    </tr>\n",
       "  </tbody>\n",
       "</table>\n",
       "</div>"
      ],
      "text/plain": [
       "   PassengerId  Pclass                                          Name     Sex  \\\n",
       "0          892       3                              Kelly, Mr. James    male   \n",
       "1          893       3              Wilkes, Mrs. James (Ellen Needs)  female   \n",
       "2          894       2                     Myles, Mr. Thomas Francis    male   \n",
       "3          895       3                              Wirz, Mr. Albert    male   \n",
       "4          896       3  Hirvonen, Mrs. Alexander (Helga E Lindqvist)  female   \n",
       "\n",
       "    Age  SibSp  Parch   Ticket     Fare Cabin Embarked  \n",
       "0  34.5      0      0   330911   7.8292   NaN        Q  \n",
       "1  47.0      1      0   363272   7.0000   NaN        S  \n",
       "2  62.0      0      0   240276   9.6875   NaN        Q  \n",
       "3  27.0      0      0   315154   8.6625   NaN        S  \n",
       "4  22.0      1      1  3101298  12.2875   NaN        S  "
      ]
     },
     "execution_count": 4,
     "metadata": {},
     "output_type": "execute_result"
    }
   ],
   "source": [
    "test_data = pd.read_csv('../input/titanic/test.csv')\n",
    "test_data.head()"
   ]
  },
  {
   "cell_type": "markdown",
   "id": "d5598fb0",
   "metadata": {
    "papermill": {
     "duration": 0.02057,
     "end_time": "2021-09-07T04:44:39.786641",
     "exception": false,
     "start_time": "2021-09-07T04:44:39.766071",
     "status": "completed"
    },
    "tags": []
   },
   "source": [
    "<h2><b><u>Exploratory Data Analysis </u></b>"
   ]
  },
  {
   "cell_type": "markdown",
   "id": "7ed6bc76",
   "metadata": {
    "papermill": {
     "duration": 0.020395,
     "end_time": "2021-09-07T04:44:39.827814",
     "exception": false,
     "start_time": "2021-09-07T04:44:39.807419",
     "status": "completed"
    },
    "tags": []
   },
   "source": [
    "**<h3>Check whether there are any missing values present in the data** </h3>"
   ]
  },
  {
   "cell_type": "code",
   "execution_count": 5,
   "id": "c36a4b54",
   "metadata": {
    "execution": {
     "iopub.execute_input": "2021-09-07T04:44:39.877498Z",
     "iopub.status.busy": "2021-09-07T04:44:39.876902Z",
     "iopub.status.idle": "2021-09-07T04:44:40.115855Z",
     "shell.execute_reply": "2021-09-07T04:44:40.116320Z",
     "shell.execute_reply.started": "2021-09-07T04:39:48.201265Z"
    },
    "papermill": {
     "duration": 0.26789,
     "end_time": "2021-09-07T04:44:40.116485",
     "exception": false,
     "start_time": "2021-09-07T04:44:39.848595",
     "status": "completed"
    },
    "tags": []
   },
   "outputs": [
    {
     "data": {
      "text/plain": [
       "<AxesSubplot:>"
      ]
     },
     "execution_count": 5,
     "metadata": {},
     "output_type": "execute_result"
    },
    {
     "data": {
      "image/png": "[encoded data removed]",
      "text/plain": [
       "<Figure size 576x288 with 1 Axes>"
      ]
     },
     "metadata": {
      "needs_background": "light"
     },
     "output_type": "display_data"
    }
   ],
   "source": [
    "plt.figure(figsize=(8,4))\n",
    "sns.heatmap(train_data.isna(), cmap='viridis', yticklabels=False, cbar=False) # heatmap for showing missing values"
   ]
  },
  {
   "cell_type": "markdown",
   "id": "17d74098",
   "metadata": {
    "papermill": {
     "duration": 0.022322,
     "end_time": "2021-09-07T04:44:40.160522",
     "exception": false,
     "start_time": "2021-09-07T04:44:40.138200",
     "status": "completed"
    },
    "tags": []
   },
   "source": [
    "* From the above heatmap we can see that there are missing values present in the feature Age, Cabin"
   ]
  },
  {
   "cell_type": "markdown",
   "id": "85aafb76",
   "metadata": {
    "papermill": {
     "duration": 0.021526,
     "end_time": "2021-09-07T04:44:40.203863",
     "exception": false,
     "start_time": "2021-09-07T04:44:40.182337",
     "status": "completed"
    },
    "tags": []
   },
   "source": [
    "<h3><b> The number of people survived and deceased </b> </h3>"
   ]
  },
  {
   "cell_type": "code",
   "execution_count": 6,
   "id": "6172d64f",
   "metadata": {
    "execution": {
     "iopub.execute_input": "2021-09-07T04:44:40.255769Z",
     "iopub.status.busy": "2021-09-07T04:44:40.254980Z",
     "iopub.status.idle": "2021-09-07T04:44:40.362865Z",
     "shell.execute_reply": "2021-09-07T04:44:40.363296Z",
     "shell.execute_reply.started": "2021-09-07T04:39:48.435163Z"
    },
    "papermill": {
     "duration": 0.137783,
     "end_time": "2021-09-07T04:44:40.363473",
     "exception": false,
     "start_time": "2021-09-07T04:44:40.225690",
     "status": "completed"
    },
    "tags": []
   },
   "outputs": [
    {
     "data": {
      "text/plain": [
       "<AxesSubplot:xlabel='Survived', ylabel='count'>"
      ]
     },
     "execution_count": 6,
     "metadata": {},
     "output_type": "execute_result"
    },
    {
     "data": {
      "image/png": "[encoded data removed]",
      "text/plain": [
       "<Figure size 432x288 with 1 Axes>"
      ]
     },
     "metadata": {
      "needs_background": "light"
     },
     "output_type": "display_data"
    }
   ],
   "source": [
    "sns.countplot(x='Survived',data=train_data, palette= 'Set1')\n",
    "# 1 -> passenger survived\n",
    "# 0 -> passenger deceased"
   ]
  },
  {
   "cell_type": "code",
   "execution_count": 7,
   "id": "1613c5d5",
   "metadata": {
    "execution": {
     "iopub.execute_input": "2021-09-07T04:44:40.413466Z",
     "iopub.status.busy": "2021-09-07T04:44:40.412533Z",
     "iopub.status.idle": "2021-09-07T04:44:40.551472Z",
     "shell.execute_reply": "2021-09-07T04:44:40.551877Z",
     "shell.execute_reply.started": "2021-09-07T04:39:48.566307Z"
    },
    "papermill": {
     "duration": 0.165173,
     "end_time": "2021-09-07T04:44:40.552044",
     "exception": false,
     "start_time": "2021-09-07T04:44:40.386871",
     "status": "completed"
    },
    "tags": []
   },
   "outputs": [
    {
     "data": {
      "text/plain": [
       "<AxesSubplot:xlabel='Survived', ylabel='count'>"
      ]
     },
     "execution_count": 7,
     "metadata": {},
     "output_type": "execute_result"
    },
    {
     "data": {
      "image/png": "[encoded data removed]",
      "text/plain": [
       "<Figure size 432x288 with 1 Axes>"
      ]
     },
     "metadata": {
      "needs_background": "light"
     },
     "output_type": "display_data"
    }
   ],
   "source": [
    "sns.countplot(x='Survived', hue='Sex', data=train_data, palette='Set1')\n",
    "\n",
    "# from this plot, it's visible that many males were survied and many female died"
   ]
  },
  {
   "cell_type": "code",
   "execution_count": 8,
   "id": "789776e2",
   "metadata": {
    "execution": {
     "iopub.execute_input": "2021-09-07T04:44:40.605484Z",
     "iopub.status.busy": "2021-09-07T04:44:40.604020Z",
     "iopub.status.idle": "2021-09-07T04:44:40.812536Z",
     "shell.execute_reply": "2021-09-07T04:44:40.812062Z",
     "shell.execute_reply.started": "2021-09-07T04:39:48.728733Z"
    },
    "papermill": {
     "duration": 0.237363,
     "end_time": "2021-09-07T04:44:40.812669",
     "exception": false,
     "start_time": "2021-09-07T04:44:40.575306",
     "status": "completed"
    },
    "tags": []
   },
   "outputs": [
    {
     "data": {
      "text/plain": [
       "<AxesSubplot:xlabel='Survived', ylabel='count'>"
      ]
     },
     "execution_count": 8,
     "metadata": {},
     "output_type": "execute_result"
    },
    {
     "data": {
      "image/png": "[encoded data removed]",
      "text/plain": [
       "<Figure size 432x288 with 1 Axes>"
      ]
     },
     "metadata": {
      "needs_background": "light"
     },
     "output_type": "display_data"
    }
   ],
   "source": [
    "sns.countplot(x='Survived', hue='Pclass', data=train_data, palette= 'Set1')\n",
    "# here we observe that passengers in class 3 were mostly survived as compared to other classes in Titanic"
   ]
  },
  {
   "cell_type": "markdown",
   "id": "2a4bbc63",
   "metadata": {
    "papermill": {
     "duration": 0.024804,
     "end_time": "2021-09-07T04:44:40.861899",
     "exception": false,
     "start_time": "2021-09-07T04:44:40.837095",
     "status": "completed"
    },
    "tags": []
   },
   "source": [
    "<h3><b> Age Distribution of the passengers in titanic </b> </h3>"
   ]
  },
  {
   "cell_type": "code",
   "execution_count": 9,
   "id": "5fe68e99",
   "metadata": {
    "execution": {
     "iopub.execute_input": "2021-09-07T04:44:40.944433Z",
     "iopub.status.busy": "2021-09-07T04:44:40.941924Z",
     "iopub.status.idle": "2021-09-07T04:44:41.250164Z",
     "shell.execute_reply": "2021-09-07T04:44:41.250680Z",
     "shell.execute_reply.started": "2021-09-07T04:39:48.932959Z"
    },
    "papermill": {
     "duration": 0.363767,
     "end_time": "2021-09-07T04:44:41.250849",
     "exception": false,
     "start_time": "2021-09-07T04:44:40.887082",
     "status": "completed"
    },
    "tags": []
   },
   "outputs": [
    {
     "data": {
      "text/plain": [
       "<seaborn.axisgrid.FacetGrid at 0x7f099cf23fd0>"
      ]
     },
     "execution_count": 9,
     "metadata": {},
     "output_type": "execute_result"
    },
    {
     "data": {
      "image/png": "[encoded data removed]",
      "text/plain": [
       "<Figure size 360x360 with 1 Axes>"
      ]
     },
     "metadata": {
      "needs_background": "light"
     },
     "output_type": "display_data"
    }
   ],
   "source": [
    "sns.displot(train_data['Age'].dropna(), bins=30)"
   ]
  },
  {
   "cell_type": "markdown",
   "id": "79e1c5f4",
   "metadata": {
    "papermill": {
     "duration": 0.025013,
     "end_time": "2021-09-07T04:44:41.301304",
     "exception": false,
     "start_time": "2021-09-07T04:44:41.276291",
     "status": "completed"
    },
    "tags": []
   },
   "source": [
    "<h3><b> Distribution of Fare amount in Titanic </b> </h3>"
   ]
  },
  {
   "cell_type": "code",
   "execution_count": 10,
   "id": "70a6d06a",
   "metadata": {
    "execution": {
     "iopub.execute_input": "2021-09-07T04:44:41.355784Z",
     "iopub.status.busy": "2021-09-07T04:44:41.355180Z",
     "iopub.status.idle": "2021-09-07T04:44:41.687627Z",
     "shell.execute_reply": "2021-09-07T04:44:41.688014Z",
     "shell.execute_reply.started": "2021-09-07T04:39:49.262509Z"
    },
    "papermill": {
     "duration": 0.361274,
     "end_time": "2021-09-07T04:44:41.688185",
     "exception": false,
     "start_time": "2021-09-07T04:44:41.326911",
     "status": "completed"
    },
    "tags": []
   },
   "outputs": [
    {
     "data": {
      "text/plain": [
       "<seaborn.axisgrid.FacetGrid at 0x7f099cfb0650>"
      ]
     },
     "execution_count": 10,
     "metadata": {},
     "output_type": "execute_result"
    },
    {
     "data": {
      "image/png": "[encoded data removed]",
      "text/plain": [
       "<Figure size 360x360 with 1 Axes>"
      ]
     },
     "metadata": {
      "needs_background": "light"
     },
     "output_type": "display_data"
    }
   ],
   "source": [
    "sns.displot(train_data['Fare'], bins=40)"
   ]
  },
  {
   "cell_type": "markdown",
   "id": "50f72742",
   "metadata": {
    "papermill": {
     "duration": 0.02618,
     "end_time": "2021-09-07T04:44:41.740634",
     "exception": false,
     "start_time": "2021-09-07T04:44:41.714454",
     "status": "completed"
    },
    "tags": []
   },
   "source": [
    "<h2><b><u>Handling Missing Values </u> </b> </h2>"
   ]
  },
  {
   "cell_type": "code",
   "execution_count": 11,
   "id": "3429efbc",
   "metadata": {
    "execution": {
     "iopub.execute_input": "2021-09-07T04:44:41.800102Z",
     "iopub.status.busy": "2021-09-07T04:44:41.799547Z",
     "iopub.status.idle": "2021-09-07T04:44:42.074379Z",
     "shell.execute_reply": "2021-09-07T04:44:42.073878Z",
     "shell.execute_reply.started": "2021-09-07T04:39:49.618278Z"
    },
    "papermill": {
     "duration": 0.30756,
     "end_time": "2021-09-07T04:44:42.074551",
     "exception": false,
     "start_time": "2021-09-07T04:44:41.766991",
     "status": "completed"
    },
    "tags": []
   },
   "outputs": [
    {
     "data": {
      "text/plain": [
       "<AxesSubplot:xlabel='Pclass', ylabel='Age'>"
      ]
     },
     "execution_count": 11,
     "metadata": {},
     "output_type": "execute_result"
    },
    {
     "data": {
      "image/png": "[encoded data removed]",
      "text/plain": [
       "<Figure size 432x288 with 1 Axes>"
      ]
     },
     "metadata": {
      "needs_background": "light"
     },
     "output_type": "display_data"
    }
   ],
   "source": [
    "sns.boxplot(x='Pclass', y='Age', data=train_data)"
   ]
  },
  {
   "cell_type": "markdown",
   "id": "eba9f324",
   "metadata": {
    "papermill": {
     "duration": 0.026142,
     "end_time": "2021-09-07T04:44:42.127579",
     "exception": false,
     "start_time": "2021-09-07T04:44:42.101437",
     "status": "completed"
    },
    "tags": []
   },
   "source": [
    "* We see that wealthier people of class 1, class 2 are tend to be old as compared to the class 3 people\n",
    "* Which indicates that older people are tend to be rich and chose either of Class 1 & 2\n",
    "* Whereas younger people chose class 3"
   ]
  },
  {
   "cell_type": "code",
   "execution_count": 12,
   "id": "c83ca228",
   "metadata": {
    "execution": {
     "iopub.execute_input": "2021-09-07T04:44:42.185508Z",
     "iopub.status.busy": "2021-09-07T04:44:42.184925Z",
     "iopub.status.idle": "2021-09-07T04:44:42.187801Z",
     "shell.execute_reply": "2021-09-07T04:44:42.187369Z",
     "shell.execute_reply.started": "2021-09-07T04:39:49.940012Z"
    },
    "papermill": {
     "duration": 0.034024,
     "end_time": "2021-09-07T04:44:42.187929",
     "exception": false,
     "start_time": "2021-09-07T04:44:42.153905",
     "status": "completed"
    },
    "tags": []
   },
   "outputs": [],
   "source": [
    "def impute_age(cols):\n",
    "    Age = cols[0]\n",
    "    Pclass = cols[1]\n",
    "    if pd.isna(Age):\n",
    "        if Pclass == 1:     # from the boxplot we are taking meadian values from the Pclass\n",
    "            return 37\n",
    "        if Pclass == 2:\n",
    "            return 29\n",
    "        else:\n",
    "            return 24\n",
    "    else:\n",
    "        return Age"
   ]
  },
  {
   "cell_type": "code",
   "execution_count": 13,
   "id": "076dbf43",
   "metadata": {
    "execution": {
     "iopub.execute_input": "2021-09-07T04:44:42.264809Z",
     "iopub.status.busy": "2021-09-07T04:44:42.246557Z",
     "iopub.status.idle": "2021-09-07T04:44:42.267449Z",
     "shell.execute_reply": "2021-09-07T04:44:42.266875Z",
     "shell.execute_reply.started": "2021-09-07T04:39:49.948684Z"
    },
    "papermill": {
     "duration": 0.05265,
     "end_time": "2021-09-07T04:44:42.267582",
     "exception": false,
     "start_time": "2021-09-07T04:44:42.214932",
     "status": "completed"
    },
    "tags": []
   },
   "outputs": [],
   "source": [
    "train_data['Age'] = train_data[['Age','Pclass']].apply(impute_age, axis=1)\n",
    "test_data['Age'] = test_data[['Age','Pclass']].apply(impute_age, axis=1)"
   ]
  },
  {
   "cell_type": "code",
   "execution_count": 14,
   "id": "c379112f",
   "metadata": {
    "execution": {
     "iopub.execute_input": "2021-09-07T04:44:42.327752Z",
     "iopub.status.busy": "2021-09-07T04:44:42.326484Z",
     "iopub.status.idle": "2021-09-07T04:44:42.331287Z",
     "shell.execute_reply": "2021-09-07T04:44:42.330724Z",
     "shell.execute_reply.started": "2021-09-07T04:39:49.997694Z"
    },
    "papermill": {
     "duration": 0.037213,
     "end_time": "2021-09-07T04:44:42.331422",
     "exception": false,
     "start_time": "2021-09-07T04:44:42.294209",
     "status": "completed"
    },
    "tags": []
   },
   "outputs": [],
   "source": [
    "train_data.drop('Cabin',axis=1, inplace= True) # this feature is categorical andf doesn't help as feature for predictions\n",
    "test_data.drop('Cabin',axis=1, inplace= True)"
   ]
  },
  {
   "cell_type": "code",
   "execution_count": 15,
   "id": "1010a701",
   "metadata": {
    "execution": {
     "iopub.execute_input": "2021-09-07T04:44:42.390562Z",
     "iopub.status.busy": "2021-09-07T04:44:42.389952Z",
     "iopub.status.idle": "2021-09-07T04:44:42.593558Z",
     "shell.execute_reply": "2021-09-07T04:44:42.593946Z",
     "shell.execute_reply.started": "2021-09-07T04:39:50.007649Z"
    },
    "papermill": {
     "duration": 0.236043,
     "end_time": "2021-09-07T04:44:42.594107",
     "exception": false,
     "start_time": "2021-09-07T04:44:42.358064",
     "status": "completed"
    },
    "tags": []
   },
   "outputs": [
    {
     "data": {
      "text/plain": [
       "<AxesSubplot:>"
      ]
     },
     "execution_count": 15,
     "metadata": {},
     "output_type": "execute_result"
    },
    {
     "data": {
      "image/png": "[encoded data removed]",
      "text/plain": [
       "<Figure size 432x288 with 1 Axes>"
      ]
     },
     "metadata": {
      "needs_background": "light"
     },
     "output_type": "display_data"
    }
   ],
   "source": [
    "sns.heatmap(train_data.isna(),cmap='viridis', yticklabels=False, cbar=False)\n",
    "# me made sure that there are no missing values present in the Age column"
   ]
  },
  {
   "cell_type": "markdown",
   "id": "89bfd65f",
   "metadata": {
    "papermill": {
     "duration": 0.027222,
     "end_time": "2021-09-07T04:44:42.648711",
     "exception": false,
     "start_time": "2021-09-07T04:44:42.621489",
     "status": "completed"
    },
    "tags": []
   },
   "source": [
    "<h2><b><u>Creating dummy variable of categorical variables </u> </b> </h2>"
   ]
  },
  {
   "cell_type": "code",
   "execution_count": 16,
   "id": "9d9c814c",
   "metadata": {
    "execution": {
     "iopub.execute_input": "2021-09-07T04:44:42.709329Z",
     "iopub.status.busy": "2021-09-07T04:44:42.708651Z",
     "iopub.status.idle": "2021-09-07T04:44:42.725342Z",
     "shell.execute_reply": "2021-09-07T04:44:42.724719Z",
     "shell.execute_reply.started": "2021-09-07T04:39:50.230503Z"
    },
    "papermill": {
     "duration": 0.049424,
     "end_time": "2021-09-07T04:44:42.725482",
     "exception": false,
     "start_time": "2021-09-07T04:44:42.676058",
     "status": "completed"
    },
    "tags": []
   },
   "outputs": [
    {
     "data": {
      "text/html": [
       "<div>\n",
       "<style scoped>\n",
       "    .dataframe tbody tr th:only-of-type {\n",
       "        vertical-align: middle;\n",
       "    }\n",
       "\n",
       "    .dataframe tbody tr th {\n",
       "        vertical-align: top;\n",
       "    }\n",
       "\n",
       "    .dataframe thead th {\n",
       "        text-align: right;\n",
       "    }\n",
       "</style>\n",
       "<table border=\"1\" class=\"dataframe\">\n",
       "  <thead>\n",
       "    <tr style=\"text-align: right;\">\n",
       "      <th></th>\n",
       "      <th>PassengerId</th>\n",
       "      <th>Survived</th>\n",
       "      <th>Pclass</th>\n",
       "      <th>Age</th>\n",
       "      <th>SibSp</th>\n",
       "      <th>Parch</th>\n",
       "      <th>Fare</th>\n",
       "      <th>male</th>\n",
       "      <th>Q</th>\n",
       "      <th>S</th>\n",
       "    </tr>\n",
       "  </thead>\n",
       "  <tbody>\n",
       "    <tr>\n",
       "      <th>0</th>\n",
       "      <td>1</td>\n",
       "      <td>0</td>\n",
       "      <td>3</td>\n",
       "      <td>22.0</td>\n",
       "      <td>1</td>\n",
       "      <td>0</td>\n",
       "      <td>7.2500</td>\n",
       "      <td>1</td>\n",
       "      <td>0</td>\n",
       "      <td>1</td>\n",
       "    </tr>\n",
       "    <tr>\n",
       "      <th>1</th>\n",
       "      <td>2</td>\n",
       "      <td>1</td>\n",
       "      <td>1</td>\n",
       "      <td>38.0</td>\n",
       "      <td>1</td>\n",
       "      <td>0</td>\n",
       "      <td>71.2833</td>\n",
       "      <td>0</td>\n",
       "      <td>0</td>\n",
       "      <td>0</td>\n",
       "    </tr>\n",
       "    <tr>\n",
       "      <th>2</th>\n",
       "      <td>3</td>\n",
       "      <td>1</td>\n",
       "      <td>3</td>\n",
       "      <td>26.0</td>\n",
       "      <td>0</td>\n",
       "      <td>0</td>\n",
       "      <td>7.9250</td>\n",
       "      <td>0</td>\n",
       "      <td>0</td>\n",
       "      <td>1</td>\n",
       "    </tr>\n",
       "    <tr>\n",
       "      <th>3</th>\n",
       "      <td>4</td>\n",
       "      <td>1</td>\n",
       "      <td>1</td>\n",
       "      <td>35.0</td>\n",
       "      <td>1</td>\n",
       "      <td>0</td>\n",
       "      <td>53.1000</td>\n",
       "      <td>0</td>\n",
       "      <td>0</td>\n",
       "      <td>1</td>\n",
       "    </tr>\n",
       "    <tr>\n",
       "      <th>4</th>\n",
       "      <td>5</td>\n",
       "      <td>0</td>\n",
       "      <td>3</td>\n",
       "      <td>35.0</td>\n",
       "      <td>0</td>\n",
       "      <td>0</td>\n",
       "      <td>8.0500</td>\n",
       "      <td>1</td>\n",
       "      <td>0</td>\n",
       "      <td>1</td>\n",
       "    </tr>\n",
       "  </tbody>\n",
       "</table>\n",
       "</div>"
      ],
      "text/plain": [
       "   PassengerId  Survived  Pclass   Age  SibSp  Parch     Fare  male  Q  S\n",
       "0            1         0       3  22.0      1      0   7.2500     1  0  1\n",
       "1            2         1       1  38.0      1      0  71.2833     0  0  0\n",
       "2            3         1       3  26.0      0      0   7.9250     0  0  1\n",
       "3            4         1       1  35.0      1      0  53.1000     0  0  1\n",
       "4            5         0       3  35.0      0      0   8.0500     1  0  1"
      ]
     },
     "execution_count": 16,
     "metadata": {},
     "output_type": "execute_result"
    }
   ],
   "source": [
    "sex= pd.get_dummies(train_data['Sex'], drop_first=True)\n",
    "embark = pd.get_dummies(train_data['Embarked'], drop_first=True)\n",
    "\n",
    "train_data = pd.concat([train_data, sex, embark], axis=1)\n",
    "train_data.drop(['Sex','Embarked','Name','Ticket'], axis=1, inplace= True)\n",
    "train_data.head()"
   ]
  },
  {
   "cell_type": "code",
   "execution_count": 17,
   "id": "fb7a00e8",
   "metadata": {
    "execution": {
     "iopub.execute_input": "2021-09-07T04:44:42.800069Z",
     "iopub.status.busy": "2021-09-07T04:44:42.791949Z",
     "iopub.status.idle": "2021-09-07T04:44:42.803170Z",
     "shell.execute_reply": "2021-09-07T04:44:42.802663Z",
     "shell.execute_reply.started": "2021-09-07T04:39:50.257358Z"
    },
    "papermill": {
     "duration": 0.048946,
     "end_time": "2021-09-07T04:44:42.803318",
     "exception": false,
     "start_time": "2021-09-07T04:44:42.754372",
     "status": "completed"
    },
    "tags": []
   },
   "outputs": [
    {
     "data": {
      "text/html": [
       "<div>\n",
       "<style scoped>\n",
       "    .dataframe tbody tr th:only-of-type {\n",
       "        vertical-align: middle;\n",
       "    }\n",
       "\n",
       "    .dataframe tbody tr th {\n",
       "        vertical-align: top;\n",
       "    }\n",
       "\n",
       "    .dataframe thead th {\n",
       "        text-align: right;\n",
       "    }\n",
       "</style>\n",
       "<table border=\"1\" class=\"dataframe\">\n",
       "  <thead>\n",
       "    <tr style=\"text-align: right;\">\n",
       "      <th></th>\n",
       "      <th>PassengerId</th>\n",
       "      <th>Pclass</th>\n",
       "      <th>Age</th>\n",
       "      <th>SibSp</th>\n",
       "      <th>Parch</th>\n",
       "      <th>Fare</th>\n",
       "      <th>male</th>\n",
       "      <th>Q</th>\n",
       "      <th>S</th>\n",
       "    </tr>\n",
       "  </thead>\n",
       "  <tbody>\n",
       "    <tr>\n",
       "      <th>0</th>\n",
       "      <td>892</td>\n",
       "      <td>3</td>\n",
       "      <td>34.5</td>\n",
       "      <td>0</td>\n",
       "      <td>0</td>\n",
       "      <td>7.8292</td>\n",
       "      <td>1</td>\n",
       "      <td>1</td>\n",
       "      <td>0</td>\n",
       "    </tr>\n",
       "    <tr>\n",
       "      <th>1</th>\n",
       "      <td>893</td>\n",
       "      <td>3</td>\n",
       "      <td>47.0</td>\n",
       "      <td>1</td>\n",
       "      <td>0</td>\n",
       "      <td>7.0000</td>\n",
       "      <td>0</td>\n",
       "      <td>0</td>\n",
       "      <td>1</td>\n",
       "    </tr>\n",
       "    <tr>\n",
       "      <th>2</th>\n",
       "      <td>894</td>\n",
       "      <td>2</td>\n",
       "      <td>62.0</td>\n",
       "      <td>0</td>\n",
       "      <td>0</td>\n",
       "      <td>9.6875</td>\n",
       "      <td>1</td>\n",
       "      <td>1</td>\n",
       "      <td>0</td>\n",
       "    </tr>\n",
       "    <tr>\n",
       "      <th>3</th>\n",
       "      <td>895</td>\n",
       "      <td>3</td>\n",
       "      <td>27.0</td>\n",
       "      <td>0</td>\n",
       "      <td>0</td>\n",
       "      <td>8.6625</td>\n",
       "      <td>1</td>\n",
       "      <td>0</td>\n",
       "      <td>1</td>\n",
       "    </tr>\n",
       "    <tr>\n",
       "      <th>4</th>\n",
       "      <td>896</td>\n",
       "      <td>3</td>\n",
       "      <td>22.0</td>\n",
       "      <td>1</td>\n",
       "      <td>1</td>\n",
       "      <td>12.2875</td>\n",
       "      <td>0</td>\n",
       "      <td>0</td>\n",
       "      <td>1</td>\n",
       "    </tr>\n",
       "  </tbody>\n",
       "</table>\n",
       "</div>"
      ],
      "text/plain": [
       "   PassengerId  Pclass   Age  SibSp  Parch     Fare  male  Q  S\n",
       "0          892       3  34.5      0      0   7.8292     1  1  0\n",
       "1          893       3  47.0      1      0   7.0000     0  0  1\n",
       "2          894       2  62.0      0      0   9.6875     1  1  0\n",
       "3          895       3  27.0      0      0   8.6625     1  0  1\n",
       "4          896       3  22.0      1      1  12.2875     0  0  1"
      ]
     },
     "execution_count": 17,
     "metadata": {},
     "output_type": "execute_result"
    }
   ],
   "source": [
    "sex= pd.get_dummies(test_data['Sex'], drop_first=True)\n",
    "embark = pd.get_dummies(test_data['Embarked'], drop_first=True)\n",
    "\n",
    "test_data = pd.concat([test_data, sex, embark], axis=1)\n",
    "test_data.drop(['Sex','Embarked','Name','Ticket'], axis=1, inplace= True)\n",
    "test_data.head()"
   ]
  },
  {
   "cell_type": "code",
   "execution_count": 18,
   "id": "6b6ab74a",
   "metadata": {
    "execution": {
     "iopub.execute_input": "2021-09-07T04:44:42.865404Z",
     "iopub.status.busy": "2021-09-07T04:44:42.864792Z",
     "iopub.status.idle": "2021-09-07T04:44:42.866473Z",
     "shell.execute_reply": "2021-09-07T04:44:42.866917Z",
     "shell.execute_reply.started": "2021-09-07T04:39:50.285170Z"
    },
    "papermill": {
     "duration": 0.035622,
     "end_time": "2021-09-07T04:44:42.867071",
     "exception": false,
     "start_time": "2021-09-07T04:44:42.831449",
     "status": "completed"
    },
    "tags": []
   },
   "outputs": [],
   "source": [
    "mean = test_data['Fare'].mean()\n",
    "test_data['Fare'].fillna(mean, inplace= True)"
   ]
  },
  {
   "cell_type": "code",
   "execution_count": 19,
   "id": "2eb77c64",
   "metadata": {
    "execution": {
     "iopub.execute_input": "2021-09-07T04:44:42.926439Z",
     "iopub.status.busy": "2021-09-07T04:44:42.925842Z",
     "iopub.status.idle": "2021-09-07T04:44:42.932825Z",
     "shell.execute_reply": "2021-09-07T04:44:42.933218Z",
     "shell.execute_reply.started": "2021-09-07T04:39:50.295431Z"
    },
    "papermill": {
     "duration": 0.038308,
     "end_time": "2021-09-07T04:44:42.933394",
     "exception": false,
     "start_time": "2021-09-07T04:44:42.895086",
     "status": "completed"
    },
    "tags": []
   },
   "outputs": [
    {
     "data": {
      "text/plain": [
       "PassengerId    0\n",
       "Pclass         0\n",
       "Age            0\n",
       "SibSp          0\n",
       "Parch          0\n",
       "Fare           0\n",
       "male           0\n",
       "Q              0\n",
       "S              0\n",
       "dtype: int64"
      ]
     },
     "execution_count": 19,
     "metadata": {},
     "output_type": "execute_result"
    }
   ],
   "source": [
    "test_data.isna().sum()"
   ]
  },
  {
   "cell_type": "markdown",
   "id": "4134ae9b",
   "metadata": {
    "papermill": {
     "duration": 0.02818,
     "end_time": "2021-09-07T04:44:42.989690",
     "exception": false,
     "start_time": "2021-09-07T04:44:42.961510",
     "status": "completed"
    },
    "tags": []
   },
   "source": [
    "<h2><b><u> Training and Prediciting the model </u> </b> </h2>"
   ]
  },
  {
   "cell_type": "code",
   "execution_count": 20,
   "id": "ee59e928",
   "metadata": {
    "execution": {
     "iopub.execute_input": "2021-09-07T04:44:43.050560Z",
     "iopub.status.busy": "2021-09-07T04:44:43.049944Z",
     "iopub.status.idle": "2021-09-07T04:44:43.055805Z",
     "shell.execute_reply": "2021-09-07T04:44:43.056209Z",
     "shell.execute_reply.started": "2021-09-07T04:39:50.320614Z"
    },
    "papermill": {
     "duration": 0.038088,
     "end_time": "2021-09-07T04:44:43.056403",
     "exception": false,
     "start_time": "2021-09-07T04:44:43.018315",
     "status": "completed"
    },
    "tags": []
   },
   "outputs": [],
   "source": [
    "X_train = train_data.drop(['Survived','PassengerId'],axis=1)\n",
    "X_test = test_data.drop('PassengerId', axis=1)"
   ]
  },
  {
   "cell_type": "code",
   "execution_count": 21,
   "id": "86d8483c",
   "metadata": {
    "execution": {
     "iopub.execute_input": "2021-09-07T04:44:43.116376Z",
     "iopub.status.busy": "2021-09-07T04:44:43.115799Z",
     "iopub.status.idle": "2021-09-07T04:44:43.119077Z",
     "shell.execute_reply": "2021-09-07T04:44:43.119507Z",
     "shell.execute_reply.started": "2021-09-07T04:39:50.335130Z"
    },
    "papermill": {
     "duration": 0.034962,
     "end_time": "2021-09-07T04:44:43.119661",
     "exception": false,
     "start_time": "2021-09-07T04:44:43.084699",
     "status": "completed"
    },
    "tags": []
   },
   "outputs": [],
   "source": [
    "y_train = train_data['Survived']"
   ]
  },
  {
   "cell_type": "code",
   "execution_count": 22,
   "id": "d2881fd6",
   "metadata": {
    "execution": {
     "iopub.execute_input": "2021-09-07T04:44:43.179536Z",
     "iopub.status.busy": "2021-09-07T04:44:43.178952Z",
     "iopub.status.idle": "2021-09-07T04:44:43.542591Z",
     "shell.execute_reply": "2021-09-07T04:44:43.542064Z",
     "shell.execute_reply.started": "2021-09-07T04:39:50.347460Z"
    },
    "papermill": {
     "duration": 0.394636,
     "end_time": "2021-09-07T04:44:43.542732",
     "exception": false,
     "start_time": "2021-09-07T04:44:43.148096",
     "status": "completed"
    },
    "tags": []
   },
   "outputs": [],
   "source": [
    "from sklearn.ensemble import RandomForestClassifier\n",
    "model = RandomForestClassifier(n_estimators=100, max_depth=5, random_state=1)  # initializing the model"
   ]
  },
  {
   "cell_type": "code",
   "execution_count": 23,
   "id": "6b70bee7",
   "metadata": {
    "execution": {
     "iopub.execute_input": "2021-09-07T04:44:43.606980Z",
     "iopub.status.busy": "2021-09-07T04:44:43.606337Z",
     "iopub.status.idle": "2021-09-07T04:44:43.766038Z",
     "shell.execute_reply": "2021-09-07T04:44:43.766536Z",
     "shell.execute_reply.started": "2021-09-07T04:39:50.748210Z"
    },
    "papermill": {
     "duration": 0.194792,
     "end_time": "2021-09-07T04:44:43.766695",
     "exception": false,
     "start_time": "2021-09-07T04:44:43.571903",
     "status": "completed"
    },
    "tags": []
   },
   "outputs": [
    {
     "data": {
      "text/plain": [
       "RandomForestClassifier(max_depth=5, random_state=1)"
      ]
     },
     "execution_count": 23,
     "metadata": {},
     "output_type": "execute_result"
    }
   ],
   "source": [
    "model.fit(X_train, y_train)"
   ]
  },
  {
   "cell_type": "code",
   "execution_count": 24,
   "id": "617e7e59",
   "metadata": {
    "execution": {
     "iopub.execute_input": "2021-09-07T04:44:43.826309Z",
     "iopub.status.busy": "2021-09-07T04:44:43.825739Z",
     "iopub.status.idle": "2021-09-07T04:44:43.844520Z",
     "shell.execute_reply": "2021-09-07T04:44:43.844042Z",
     "shell.execute_reply.started": "2021-09-07T04:39:50.970704Z"
    },
    "papermill": {
     "duration": 0.049504,
     "end_time": "2021-09-07T04:44:43.844656",
     "exception": false,
     "start_time": "2021-09-07T04:44:43.795152",
     "status": "completed"
    },
    "tags": []
   },
   "outputs": [],
   "source": [
    "prediction = model.predict(X_test)"
   ]
  },
  {
   "cell_type": "code",
   "execution_count": 25,
   "id": "9e524449",
   "metadata": {
    "execution": {
     "iopub.execute_input": "2021-09-07T04:44:43.909795Z",
     "iopub.status.busy": "2021-09-07T04:44:43.909102Z",
     "iopub.status.idle": "2021-09-07T04:46:03.862951Z",
     "shell.execute_reply": "2021-09-07T04:46:03.863421Z",
     "shell.execute_reply.started": "2021-09-07T04:39:50.993975Z"
    },
    "papermill": {
     "duration": 79.990553,
     "end_time": "2021-09-07T04:46:03.863603",
     "exception": false,
     "start_time": "2021-09-07T04:44:43.873050",
     "status": "completed"
    },
    "tags": []
   },
   "outputs": [
    {
     "name": "stdout",
     "output_type": "stream",
     "text": [
      "Best: 0.811823 using {'learning_rate': 1.0, 'n_estimators': 100}\n"
     ]
    }
   ],
   "source": [
    "from sklearn.ensemble import AdaBoostClassifier\n",
    "from sklearn.model_selection import RepeatedStratifiedKFold\n",
    "from sklearn.model_selection import GridSearchCV\n",
    "ada = AdaBoostClassifier()\n",
    "\n",
    "grid = dict()\n",
    "grid['n_estimators'] = [10, 50, 100, 500]\n",
    "grid['learning_rate'] = [0.0001, 0.001, 0.01, 0.1, 1.0]\n",
    "# define the evaluation procedure\n",
    "cv = RepeatedStratifiedKFold(n_splits=10, n_repeats=3, random_state=1)\n",
    "# define the grid search procedure\n",
    "grid_search = GridSearchCV(estimator=ada, param_grid=grid, n_jobs=-1, cv=cv, scoring='accuracy')\n",
    "# execute the grid search\n",
    "grid_result = grid_search.fit(X_train, y_train)\n",
    "# summarize the best score and configuration\n",
    "print(\"Best: %f using %s\" % (grid_result.best_score_, grid_result.best_params_))"
   ]
  },
  {
   "cell_type": "code",
   "execution_count": 26,
   "id": "b687d7d8",
   "metadata": {
    "execution": {
     "iopub.execute_input": "2021-09-07T04:46:03.928044Z",
     "iopub.status.busy": "2021-09-07T04:46:03.927400Z",
     "iopub.status.idle": "2021-09-07T04:46:05.149890Z",
     "shell.execute_reply": "2021-09-07T04:46:05.150463Z",
     "shell.execute_reply.started": "2021-09-07T04:41:22.878470Z"
    },
    "papermill": {
     "duration": 1.258296,
     "end_time": "2021-09-07T04:46:05.150656",
     "exception": false,
     "start_time": "2021-09-07T04:46:03.892360",
     "status": "completed"
    },
    "tags": []
   },
   "outputs": [
    {
     "name": "stderr",
     "output_type": "stream",
     "text": [
      "/opt/conda/lib/python3.7/site-packages/xgboost/sklearn.py:1146: UserWarning: The use of label encoder in XGBClassifier is deprecated and will be removed in a future release. To remove this warning, do the following: 1) Pass option use_label_encoder=False when constructing XGBClassifier object; and 2) Encode your labels (y) as integers starting with 0, i.e. 0, 1, 2, ..., [num_class - 1].\n",
      "  warnings.warn(label_encoder_deprecation_msg, UserWarning)\n"
     ]
    },
    {
     "name": "stdout",
     "output_type": "stream",
     "text": [
      "[04:46:04] WARNING: ../src/learner.cc:1095: Starting in XGBoost 1.3.0, the default evaluation metric used with the objective 'binary:logistic' was changed from 'error' to 'logloss'. Explicitly set eval_metric if you'd like to restore the old behavior.\n"
     ]
    }
   ],
   "source": [
    "import xgboost as xgb\n",
    "gbm = xgb.XGBClassifier(learning_rate = 0.02,\n",
    " n_estimators= 2000,\n",
    " max_depth= 4,\n",
    " min_child_weight= 2,\n",
    " #gamma=1,\n",
    " gamma=0.9,                        \n",
    " subsample=0.8,\n",
    " colsample_bytree=0.8,\n",
    " nthread= -1,\n",
    " scale_pos_weight=1).fit(X_train, y_train)\n",
    "xgb_predictions = gbm.predict(X_test)"
   ]
  },
  {
   "cell_type": "code",
   "execution_count": 27,
   "id": "a64cf3f6",
   "metadata": {
    "execution": {
     "iopub.execute_input": "2021-09-07T04:46:05.212754Z",
     "iopub.status.busy": "2021-09-07T04:46:05.212170Z",
     "iopub.status.idle": "2021-09-07T04:46:05.223114Z",
     "shell.execute_reply": "2021-09-07T04:46:05.222575Z",
     "shell.execute_reply.started": "2021-09-07T04:41:24.221746Z"
    },
    "papermill": {
     "duration": 0.042993,
     "end_time": "2021-09-07T04:46:05.223289",
     "exception": false,
     "start_time": "2021-09-07T04:46:05.180296",
     "status": "completed"
    },
    "tags": []
   },
   "outputs": [
    {
     "name": "stdout",
     "output_type": "stream",
     "text": [
      "Your submission was successfully saved!\n"
     ]
    }
   ],
   "source": [
    "output = pd.DataFrame({'PassengerId': test_data.PassengerId, 'Survived': xgb_predictions})\n",
    "output.to_csv('my_submission.csv', index=False)\n",
    "print(\"Your submission was successfully saved!\")"
   ]
  }
 ],
 "metadata": {
  "kernelspec": {
   "display_name": "Python 3",
   "language": "python",
   "name": "python3"
  },
  "language_info": {
   "codemirror_mode": {
    "name": "ipython",
    "version": 3
   },
   "file_extension": ".py",
   "mimetype": "text/x-python",
   "name": "python",
   "nbconvert_exporter": "python",
   "pygments_lexer": "ipython3",
   "version": "3.7.10"
  },
  "papermill": {
   "default_parameters": {},
   "duration": 94.542704,
   "end_time": "2021-09-07T04:46:06.164382",
   "environment_variables": {},
   "exception": null,
   "input_path": "__notebook__.ipynb",
   "output_path": "__notebook__.ipynb",
   "parameters": {},
   "start_time": "2021-09-07T04:44:31.621678",
   "version": "2.3.3"
  }
 },
 "nbformat": 4,
 "nbformat_minor": 5
}
